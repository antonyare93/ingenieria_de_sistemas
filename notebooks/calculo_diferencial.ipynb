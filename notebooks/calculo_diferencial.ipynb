{
 "cells": [
  {
   "cell_type": "markdown",
   "metadata": {},
   "source": [
    "# Cálculo diferencial\n",
    "\n",
    "Acá, de la forma más descriptiba posible y con ayuda de la programación, veremos los temas del microcurrículo de Cálculo integral \n",
    "\n",
    "## Temario\n",
    "\n",
    "Esto es aburrido, te lo puedes saltar, pero si te interesa saber qué aprenderás con este Notebook deberías leerlo\n",
    "### Unidad 1 - Precálculo\n",
    "- Los números reales. \n",
    "    - Propiedades de campo. \n",
    "    - Propiedades de orden.\n",
    "- Desigualdades. \n",
    "    - Intervalos. \n",
    "    - Inecuaciones.\n",
    "- Valor absoluto. \n",
    "    - Desigualdades con valor absoluto.\n",
    "- El sistema de coordenadas cartesianas. \n",
    "    - Pares ordenados. \n",
    "    - Distancia entre dos puntos del plano. \n",
    "    - Coordenadas del punto medio.\n",
    "- La línea recta. \n",
    "    - Las diferentes formas de la ecuación de una recta. \n",
    "    - Rectas paralelas y perpendiculares.\n",
    "- Funciones y sus gráfcas. \n",
    "    -Diferentes tipos de funciones. \n",
    "    - Dominio y rango.\n",
    "- Operaciones con funciones. \n",
    "    - Desplazamientos y cambios de escala.\n",
    "- Desplazamientos, alargamientos y compresiones.\n",
    "\n",
    "### Unidad 2 - Límites y continuidad\n",
    "- Noción intuitiva del límite. \n",
    "    - Defnición formal de límite.\n",
    "- Teoremas sobre límites. \n",
    "    - Teorema del sándwich. \n",
    "    - Limites laterales.\n",
    "- Limites que incluyen funciones trigonométricas.\n",
    "- Continuidad de funciones. \n",
    "    - Continuidad en un punto. \n",
    "    - Clasifcación de las discontinuidades.\n",
    "- Teoremas sobre funciones continuas. \n",
    "    -Continuidad en un intervalo.\n",
    "- Límites al infnito y límites infnitos.\n",
    "\n",
    "### Unidad 3 - La derivada\n",
    "- Defnición e Interpretación física y geométrica de la derivada.\n",
    "- Derivada. \n",
    "    - Notación. \n",
    "    - Relación derivadacontinuidad y derivada laterales.\n",
    "- Reglas de derivación. \n",
    "    - Regla de la cadena.\n",
    "- Derivadas de orden superior. \n",
    "    - Derivación implícita.\n",
    "- Derivada de las funciones trigonométricas. \n",
    "    - Derivada de funciones exponenciales y logarítmicas.\n",
    "- Derivada de funciones trigonométricas inversas. \n",
    "    - Funciones hiperbólicas e hiperbólicas inversas y sus derivadas.\n",
    "\n",
    "### Unidad 4 - Aplicaciones de la derivada\n",
    "- Variables relacionadas. \n",
    "    - La derivada como razón de cambio.\n",
    "- Formas indeterminadas y la regla de L'Hôpital.\n",
    "- Asíntotas de una curva. \n",
    "    - Clasifcación. \n",
    "    - Asíntotas horizontales, verticales y oblicuas.\n",
    "- Valores extremos de una función de variable real. \n",
    "    - Números críticos. \n",
    "    - Valores extremos relativos y absolutos.\n",
    "- Criterios de la primera derivada. \n",
    "    -Puntos críticos. \n",
    "    - Criterio de la primera derivada para crecimiento y decrecimiento de una función. \n",
    "    - Criterio de la primera derivada para extremos relativos.\n",
    "- Criterio de la segunda derivada. \n",
    "    - Puntos de infexión. \n",
    "    - Criterio de la segunda derivada para concavidad. \n",
    "    - Criterio de la segunda derivada para extremos relativos.\n",
    "- Trazado de curvas con todos sus elementos.\n",
    "- Problemas de optimización.\n",
    "- Diferenciales y aproximaciones lineales.\n",
    "\n",
    "## Bibliografía:\n",
    "- Texto guía: Jesús Del Valle Sierra. Elementos Básicos de Cálculo Diferencial Tercera edición\n",
    "- PÉREZ José Luis, MERCADO Norman. Notas para un curso de Cálculo Diferencial.\n",
    "- STWART, James. Calculo, Trascendentes Tempranas. Cuarta Edición. Editorial Thomson.\n",
    "- LARSON, Roland E. y HOSTETLER, Robert P. Cálculo y Geometría Analítica. Sexta edición. Madrid: Editorial McGraw-Hill.\n",
    "- LEITHOLD, Louis. El Cálculo con Geometría Analítica. Sexta edición. México: Editorial Harla, 1992.\n",
    "\n",
    "## Librerías\n",
    "\n",
    "Para el desarrollo del curso necesitaremos importar las siguientes librerías:"
   ]
  },
  {
   "cell_type": "code",
   "execution_count": 1,
   "metadata": {},
   "outputs": [],
   "source": [
    "import math"
   ]
  },
  {
   "cell_type": "markdown",
   "metadata": {},
   "source": [
    "## Unidad 1\n",
    "\n",
    "### Los números naturales\n",
    "\n",
    "Los numeros naturales resultaron por la necesidad de contar cosas\n",
    "\n",
    "$$\\N = \\{1,2,3,...,n\\}$$\n",
    "\n"
   ]
  },
  {
   "cell_type": "code",
   "execution_count": 2,
   "metadata": {},
   "outputs": [
    {
     "data": {
      "text/plain": [
       "[1, 2, 3, 4]"
      ]
     },
     "execution_count": 2,
     "metadata": {},
     "output_type": "execute_result"
    }
   ],
   "source": [
    "N = [1, 2, 3, 4]\n",
    "N"
   ]
  },
  {
   "cell_type": "markdown",
   "metadata": {},
   "source": [
    "Por lo anterior, podríamos entender a los Naturales como los números positivos sin decimales.\n",
    "\n",
    "A los números sin decimales los llamaremos enteros, y a los positivos como mayores que 0.\n",
    "\n",
    "¿Puedes diferenciar si los siguientes números son naturales?\n",
    "\n",
    "a. 14\n",
    "\n",
    "b. -5\n",
    "\n",
    "c. 4.6\n",
    "\n",
    "\n",
    "En la siguiente función, utilizamos la función _isinstance_ para verificar si el número es un entero y luego validamos que sea mayor que 0 para determinar si los números son naturales"
   ]
  },
  {
   "cell_type": "code",
   "execution_count": 3,
   "metadata": {},
   "outputs": [
    {
     "name": "stdout",
     "output_type": "stream",
     "text": [
      "a True\n",
      "b False\n",
      "c False\n"
     ]
    }
   ],
   "source": [
    "def es_natural(num):\n",
    "    return isinstance(num, int) and num > 0\n",
    "\n",
    "numeros = {\n",
    "    'a': 14,\n",
    "    'b': -5,\n",
    "    'c': 4.6\n",
    "}\n",
    "\n",
    "for key, value in numeros.items():\n",
    "    print(key, es_natural(value))"
   ]
  },
  {
   "cell_type": "markdown",
   "metadata": {},
   "source": [
    "### Los números enteros\n",
    "\n",
    "\n",
    "\n",
    "$$ \\Z =\\{...,-2,-1,0,1,2,...\\} $$"
   ]
  },
  {
   "cell_type": "code",
   "execution_count": 4,
   "metadata": {},
   "outputs": [
    {
     "data": {
      "text/plain": [
       "[-2, -1, 0, 1, 2]"
      ]
     },
     "execution_count": 4,
     "metadata": {},
     "output_type": "execute_result"
    }
   ],
   "source": [
    "Z = [-2,-1,0,1,2]\n",
    "Z"
   ]
  },
  {
   "cell_type": "markdown",
   "metadata": {},
   "source": [
    "Por lo anterior, podríamos entender a los Enteros como los números sin decimales.\n",
    "\n",
    "A los números sin decimales los llamaremos enteros.\n",
    "\n",
    "¿Puedes diferenciar si los siguientes números son enteros?\n",
    "\n",
    "a. 14\n",
    "\n",
    "b. -5\n",
    "\n",
    "c. 4.6\n",
    "\n",
    "\n",
    "En la siguiente función, utilizamos la función _isinstance_ para verificar si el número es un entero"
   ]
  },
  {
   "cell_type": "code",
   "execution_count": 5,
   "metadata": {},
   "outputs": [
    {
     "name": "stdout",
     "output_type": "stream",
     "text": [
      "a True\n",
      "b True\n",
      "c False\n"
     ]
    }
   ],
   "source": [
    "def es_entero(num):\n",
    "    return isinstance(num, int)\n",
    "\n",
    "numeros = {\n",
    "    'a': 14,\n",
    "    'b': -5,\n",
    "    'c': 4.6\n",
    "}\n",
    "\n",
    "for key, value in numeros.items():\n",
    "    print(key, es_entero(value))"
   ]
  },
  {
   "cell_type": "markdown",
   "metadata": {},
   "source": [
    "Se puede notar que el conjunto de los números naturales está contenido dentro de los números enteros\n",
    "\n",
    "$$ \\N \\sub \\Z $$\n",
    "\n",
    "### Los números racionales\n",
    "\n",
    "Este conjunto responde a la necesidad de partir unidades (o grupos de objetos) entre diferentes personas. Estos son números que se encuentran entre 2 enteros\n",
    "\n",
    "$$ \\mathbb{Q}=\\{\\frac{m}{n}|m\\in\\Z,n\\in\\Z,n\\not =0\\} $$\n",
    "\n",
    "Los enteros y, por lo tanto, los naturales, pertenecen a los números racionales.\n",
    "\n",
    "$$ \\N \\sub \\Z \\sub \\mathbb{Q} $$\n",
    "\n",
    "### Los números irracionales\n",
    "\n",
    "Son aquellos números que no son representables en los racionales\n",
    "\n",
    "$$ \\mathbb{Q}' $$\n",
    "\n",
    "### Los números reales\n",
    "\n",
    "Es el conjunto resultante de la unión entre los racionales y los irracionales\n",
    "\n",
    "$$ \\mathbb{Q} \\cup \\mathbb{Q}'=\\R $$\n",
    "\n",
    "El conjunto de los números no comprendido entre irracionales y racionales es vacío\n",
    "\n",
    "$$ \\mathbb{Q} \\cup \\mathbb{Q}'=\\empty $$\n",
    "\n",
    "### Caracterización de los números racionales e irracionales\n",
    "\n",
    "- Los números racionales tienen una cantidad de decimales limitada o ilimitada repetida. Los llamaremos decimales finitos o infinitos periódicos\n",
    "    - 3.15151515\n",
    "    - 4\n",
    "    - 2.5\n",
    "- Los números irracionales tienen una cantidad de decimales infinita que no se repite. Lo llamamos infinitos <strong>no</strong> periódicos\n",
    "    - 3.1415926535897932384626433832795... (pi)\n",
    "\n",
    "### Axiomas de campo\n",
    "\n",
    "Para los reales $\\R$ se definen dos operaciones que son la suma dada por el operador + y la multiplicación por el operador $\\cdot$\n",
    "Siempre se cumplen las siguientes propiedades, para los ejemplos tendremos que $\\{a=1, b=-2, c=3, d=0\\}$\n",
    "\n",
    "En Python, los números racionales e irracionales pertenecen a la clase int (enteros) y float (decimales) por lo que si un número pertenece a la clase int o float, pertenece a los reales"
   ]
  },
  {
   "cell_type": "code",
   "execution_count": 6,
   "metadata": {},
   "outputs": [],
   "source": [
    "a = 1.5\n",
    "b = -2\n",
    "c = 3\n",
    "d = 0\n",
    "\n",
    "def es_real(num):\n",
    "    return isinstance(num, int) or isinstance(num, float)"
   ]
  },
  {
   "cell_type": "markdown",
   "metadata": {},
   "source": [
    "#### Uniforme\n",
    "\n",
    "Si $a\\in\\R, b\\in\\R$, entonces $a+b\\in\\R$ y $a\\cdot b\\in\\R$\n",
    "\n",
    "Leido en español, si a pertenece a los reales y b pertenece a los reales, entonces la suma de a y b, y la multiplicación de a y b pertenecen a los reales."
   ]
  },
  {
   "cell_type": "code",
   "execution_count": 7,
   "metadata": {},
   "outputs": [
    {
     "name": "stdout",
     "output_type": "stream",
     "text": [
      "True True True True\n"
     ]
    }
   ],
   "source": [
    "print(es_real(a),\n",
    "        es_real(b),\n",
    "        es_real(a+b),\n",
    "        es_real(a*b))"
   ]
  }
 ],
 "metadata": {
  "kernelspec": {
   "display_name": "Python 3",
   "language": "python",
   "name": "python3"
  },
  "language_info": {
   "codemirror_mode": {
    "name": "ipython",
    "version": 3
   },
   "file_extension": ".py",
   "mimetype": "text/x-python",
   "name": "python",
   "nbconvert_exporter": "python",
   "pygments_lexer": "ipython3",
   "version": "3.12.2"
  }
 },
 "nbformat": 4,
 "nbformat_minor": 2
}
