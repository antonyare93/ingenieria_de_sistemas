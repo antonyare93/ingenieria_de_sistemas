{
 "cells": [
  {
   "cell_type": "markdown",
   "metadata": {},
   "source": [
    "# Cálculo diferencial\n",
    "\n",
    "Acá, de la forma más descriptiba posible y con ayuda de la programación, veremos los temas del microcurrículo de Cálculo integral \n",
    "\n",
    "## Temario\n",
    "\n",
    "Esto es aburrido, te lo puedes saltar, pero si te interesa saber qué aprenderás con este Notebook deberías leerlo\n",
    "### Unidad 1 - Precálculo\n",
    "- Los números reales. \n",
    "    - Propiedades de campo. \n",
    "    - Propiedades de orden.\n",
    "- Desigualdades. \n",
    "        - Intervalos. \n",
    "        - Inecuaciones.\n",
    "- Valor absoluto. \n",
    "    - Desigualdades con valor absoluto.\n",
    "- El sistema de coordenadas cartesianas. \n",
    "    - Pares ordenados. \n",
    "    - Distancia entre dos puntos del plano. \n",
    "    - Coordenadas del punto medio.\n",
    "- La línea recta. \n",
    "    - Las diferentes formas de la ecuación de una recta. \n",
    "    - Rectas paralelas y perpendiculares.\n",
    "- Funciones y sus gráfcas. \n",
    "    -Diferentes tipos de funciones. \n",
    "    - Dominio y rango.\n",
    "- Operaciones con funciones. \n",
    "    - Desplazamientos y cambios de escala.\n",
    "- Desplazamientos, alargamientos y compresiones.\n",
    "\n",
    "### Unidad 2 - Límites y continuidad\n",
    "- Noción intuitiva del límite. \n",
    "    - Defnición formal de límite.\n",
    "- Teoremas sobre límites. \n",
    "    - Teorema del sándwich. \n",
    "    - Limites laterales.\n",
    "- Limites que incluyen funciones trigonométricas.\n",
    "- Continuidad de funciones. \n",
    "    - Continuidad en un punto. \n",
    "    - Clasifcación de las discontinuidades.\n",
    "- Teoremas sobre funciones continuas. \n",
    "    -Continuidad en un intervalo.\n",
    "- Límites al infnito y límites infnitos.\n",
    "\n",
    "### Unidad 3 - La derivada\n",
    "- Defnición e Interpretación física y geométrica de la derivada.\n",
    "- Derivada. \n",
    "    - Notación. \n",
    "    - Relación derivadacontinuidad y derivada laterales.\n",
    "- Reglas de derivación. \n",
    "    - Regla de la cadena.\n",
    "- Derivadas de orden superior. \n",
    "    - Derivación implícita.\n",
    "- Derivada de las funciones trigonométricas. \n",
    "    - Derivada de funciones exponenciales y logarítmicas.\n",
    "- Derivada de funciones trigonométricas inversas. \n",
    "    - Funciones hiperbólicas e hiperbólicas inversas y sus derivadas.\n",
    "\n",
    "### Unidad 4 - Aplicaciones de la derivada\n",
    "- Variables relacionadas. \n",
    "    - La derivada como razón de cambio.\n",
    "- Formas indeterminadas y la regla de L'Hôpital.\n",
    "- Asíntotas de una curva. \n",
    "    - Clasifcación. \n",
    "    - Asíntotas horizontales, verticales y oblicuas.\n",
    "- Valores extremos de una función de variable real. \n",
    "    - Números críticos. \n",
    "    - Valores extremos relativos y absolutos.\n",
    "- Criterios de la primera derivada. \n",
    "    -Puntos críticos. \n",
    "    - Criterio de la primera derivada para crecimiento y decrecimiento de una función. \n",
    "    - Criterio de la primera derivada para extremos relativos.\n",
    "- Criterio de la segunda derivada. \n",
    "    - Puntos de infexión. \n",
    "    - Criterio de la segunda derivada para concavidad. \n",
    "    - Criterio de la segunda derivada para extremos relativos.\n",
    "- Trazado de curvas con todos sus elementos.\n",
    "- Problemas de optimización.\n",
    "- Diferenciales y aproximaciones lineales.\n",
    "\n",
    "## Bibliografía:\n",
    "- Texto guía: Jesús Del Valle Sierra. Elementos Básicos de Cálculo Diferencial Tercera edición\n",
    "- PÉREZ José Luis, MERCADO Norman. Notas para un curso de Cálculo Diferencial.\n",
    "- STWART, James. Calculo, Trascendentes Tempranas. Cuarta Edición. Editorial Thomson.\n",
    "- LARSON, Roland E. y HOSTETLER, Robert P. Cálculo y Geometría Analítica. Sexta edición. Madrid: Editorial McGraw-Hill.\n",
    "- LEITHOLD, Louis. El Cálculo con Geometría Analítica. Sexta edición. México: Editorial Harla, 1992.\n"
   ]
  },
  {
   "cell_type": "markdown",
   "metadata": {},
   "source": [
    "## Unidad 1\n",
    "\n",
    "### Los números naturales\n",
    "\n",
    "Los numeros naturales resultaron por la necesidad de contar cosas\n",
    "\n",
    "$$\\N = \\{1,2,3,...,n\\}$$\n",
    "\n"
   ]
  },
  {
   "cell_type": "code",
   "execution_count": 1,
   "metadata": {},
   "outputs": [
    {
     "data": {
      "text/plain": [
       "[1, 2, 3, 4]"
      ]
     },
     "execution_count": 1,
     "metadata": {},
     "output_type": "execute_result"
    }
   ],
   "source": [
    "N = [1, 2, 3, 4]\n",
    "N"
   ]
  },
  {
   "cell_type": "markdown",
   "metadata": {},
   "source": [
    "Por lo anterior, podríamos entender a los Naturales como los números positivos sin decimales.\n",
    "\n",
    "A los números sin decimales los llamaremos enteros, y a los positivos como mayores que 0.\n",
    "\n",
    "¿Puedes diferenciar si los siguientes números son naturales?\n",
    "\n",
    "a. 14\n",
    "\n",
    "b. -5\n",
    "\n",
    "c. 4.6\n",
    "\n",
    "\n",
    "En la siguiente función, utilizamos la función _isinstance_ para verificar si el número es un entero y luego validamos que sea mayor que 0 para determinar si los números son naturales"
   ]
  },
  {
   "cell_type": "code",
   "execution_count": 6,
   "metadata": {},
   "outputs": [
    {
     "ename": "ValueError",
     "evalue": "not enough values to unpack (expected 2, got 1)",
     "output_type": "error",
     "traceback": [
      "\u001b[1;31m---------------------------------------------------------------------------\u001b[0m",
      "\u001b[1;31mValueError\u001b[0m                                Traceback (most recent call last)",
      "Cell \u001b[1;32mIn[6], line 10\u001b[0m\n\u001b[0;32m      2\u001b[0m     \u001b[38;5;28;01mreturn\u001b[39;00m \u001b[38;5;28misinstance\u001b[39m(num, \u001b[38;5;28mint\u001b[39m) \u001b[38;5;129;01mand\u001b[39;00m num \u001b[38;5;241m>\u001b[39m \u001b[38;5;241m0\u001b[39m\n\u001b[0;32m      4\u001b[0m numeros \u001b[38;5;241m=\u001b[39m {\n\u001b[0;32m      5\u001b[0m     \u001b[38;5;124m'\u001b[39m\u001b[38;5;124ma\u001b[39m\u001b[38;5;124m'\u001b[39m: \u001b[38;5;241m14\u001b[39m,\n\u001b[0;32m      6\u001b[0m     \u001b[38;5;124m'\u001b[39m\u001b[38;5;124mb\u001b[39m\u001b[38;5;124m'\u001b[39m: \u001b[38;5;241m-\u001b[39m\u001b[38;5;241m5\u001b[39m,\n\u001b[0;32m      7\u001b[0m     \u001b[38;5;124m'\u001b[39m\u001b[38;5;124mc\u001b[39m\u001b[38;5;124m'\u001b[39m: \u001b[38;5;241m4.6\u001b[39m\n\u001b[0;32m      8\u001b[0m }\n\u001b[1;32m---> 10\u001b[0m \u001b[38;5;28;01mfor\u001b[39;00m key, value \u001b[38;5;129;01min\u001b[39;00m \u001b[38;5;28miter\u001b[39m(numeros):\n\u001b[0;32m     11\u001b[0m     \u001b[38;5;28mprint\u001b[39m(key, es_natural(value))\n",
      "\u001b[1;31mValueError\u001b[0m: not enough values to unpack (expected 2, got 1)"
     ]
    }
   ],
   "source": [
    "def es_natural(num):\n",
    "    return isinstance(num, int) and num > 0\n",
    "\n",
    "numeros = {\n",
    "    'a': 14,\n",
    "    'b': -5,\n",
    "    'c': 4.6\n",
    "}\n",
    "\n",
    "for key, value in iter(numeros):\n",
    "    print(key, es_natural(value))"
   ]
  }
 ],
 "metadata": {
  "kernelspec": {
   "display_name": "Python 3",
   "language": "python",
   "name": "python3"
  },
  "language_info": {
   "codemirror_mode": {
    "name": "ipython",
    "version": 3
   },
   "file_extension": ".py",
   "mimetype": "text/x-python",
   "name": "python",
   "nbconvert_exporter": "python",
   "pygments_lexer": "ipython3",
   "version": "3.12.2"
  }
 },
 "nbformat": 4,
 "nbformat_minor": 2
}
