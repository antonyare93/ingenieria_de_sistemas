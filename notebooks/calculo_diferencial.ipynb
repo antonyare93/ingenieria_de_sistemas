{
 "cells": [
  {
   "cell_type": "markdown",
   "metadata": {},
   "source": [
    "# Cálculo diferencial\n",
    "\n",
    "Acá, de la forma más descriptiba posible y con ayuda de la programación, veremos los temas del microcurrículo de Cálculo integral \n",
    "\n",
    "## Temario\n",
    "\n",
    "Esto es aburrido, te lo puedes saltar, pero si te interesa saber qué aprenderás con este Notebook deberías leerlo\n",
    "### Unidad 1 - Precálculo\n",
    "- Los números reales. \n",
    "    - Propiedades de campo. \n",
    "    - Propiedades de orden.\n",
    "- Desigualdades. \n",
    "    - Intervalos. \n",
    "    - Inecuaciones.\n",
    "- Valor absoluto. \n",
    "    - Desigualdades con valor absoluto.\n",
    "- El sistema de coordenadas cartesianas. \n",
    "    - Pares ordenados. \n",
    "    - Distancia entre dos puntos del plano. \n",
    "    - Coordenadas del punto medio.\n",
    "- La línea recta. \n",
    "    - Las diferentes formas de la ecuación de una recta. \n",
    "    - Rectas paralelas y perpendiculares.\n",
    "- Funciones y sus gráfcas. \n",
    "    -Diferentes tipos de funciones. \n",
    "    - Dominio y rango.\n",
    "- Operaciones con funciones. \n",
    "    - Desplazamientos y cambios de escala.\n",
    "- Desplazamientos, alargamientos y compresiones.\n",
    "\n",
    "### Unidad 2 - Límites y continuidad\n",
    "- Noción intuitiva del límite. \n",
    "    - Defnición formal de límite.\n",
    "- Teoremas sobre límites. \n",
    "    - Teorema del sándwich. \n",
    "    - Limites laterales.\n",
    "- Limites que incluyen funciones trigonométricas.\n",
    "- Continuidad de funciones. \n",
    "    - Continuidad en un punto. \n",
    "    - Clasifcación de las discontinuidades.\n",
    "- Teoremas sobre funciones continuas. \n",
    "    -Continuidad en un intervalo.\n",
    "- Límites al infnito y límites infnitos.\n",
    "\n",
    "### Unidad 3 - La derivada\n",
    "- Defnición e Interpretación física y geométrica de la derivada.\n",
    "- Derivada. \n",
    "    - Notación. \n",
    "    - Relación derivadacontinuidad y derivada laterales.\n",
    "- Reglas de derivación. \n",
    "    - Regla de la cadena.\n",
    "- Derivadas de orden superior. \n",
    "    - Derivación implícita.\n",
    "- Derivada de las funciones trigonométricas. \n",
    "    - Derivada de funciones exponenciales y logarítmicas.\n",
    "- Derivada de funciones trigonométricas inversas. \n",
    "    - Funciones hiperbólicas e hiperbólicas inversas y sus derivadas.\n",
    "\n",
    "### Unidad 4 - Aplicaciones de la derivada\n",
    "- Variables relacionadas. \n",
    "    - La derivada como razón de cambio.\n",
    "- Formas indeterminadas y la regla de L'Hôpital.\n",
    "- Asíntotas de una curva. \n",
    "    - Clasifcación. \n",
    "    - Asíntotas horizontales, verticales y oblicuas.\n",
    "- Valores extremos de una función de variable real. \n",
    "    - Números críticos. \n",
    "    - Valores extremos relativos y absolutos.\n",
    "- Criterios de la primera derivada. \n",
    "    -Puntos críticos. \n",
    "    - Criterio de la primera derivada para crecimiento y decrecimiento de una función. \n",
    "    - Criterio de la primera derivada para extremos relativos.\n",
    "- Criterio de la segunda derivada. \n",
    "    - Puntos de infexión. \n",
    "    - Criterio de la segunda derivada para concavidad. \n",
    "    - Criterio de la segunda derivada para extremos relativos.\n",
    "- Trazado de curvas con todos sus elementos.\n",
    "- Problemas de optimización.\n",
    "- Diferenciales y aproximaciones lineales.\n",
    "\n",
    "## Bibliografía:\n",
    "- Texto guía: Jesús Del Valle Sierra. Elementos Básicos de Cálculo Diferencial Tercera edición\n",
    "- PÉREZ José Luis, MERCADO Norman. Notas para un curso de Cálculo Diferencial.\n",
    "- STWART, James. Calculo, Trascendentes Tempranas. Cuarta Edición. Editorial Thomson.\n",
    "- LARSON, Roland E. y HOSTETLER, Robert P. Cálculo y Geometría Analítica. Sexta edición. Madrid: Editorial McGraw-Hill.\n",
    "- LEITHOLD, Louis. El Cálculo con Geometría Analítica. Sexta edición. México: Editorial Harla, 1992.\n",
    "\n",
    "## Librerías\n",
    "\n",
    "Para el desarrollo del curso necesitaremos importar las siguientes librerías:"
   ]
  },
  {
   "cell_type": "code",
   "execution_count": 1,
   "metadata": {},
   "outputs": [],
   "source": [
    "import math"
   ]
  },
  {
   "cell_type": "markdown",
   "metadata": {},
   "source": [
    "## Unidad 1\n",
    "\n",
    "### Los números naturales\n",
    "\n",
    "Los numeros naturales resultaron por la necesidad de contar cosas\n",
    "\n",
    "$$\\N = \\{1,2,3,...,n\\}$$\n",
    "\n"
   ]
  },
  {
   "cell_type": "code",
   "execution_count": 2,
   "metadata": {},
   "outputs": [
    {
     "data": {
      "text/plain": [
       "[1, 2, 3, 4]"
      ]
     },
     "execution_count": 2,
     "metadata": {},
     "output_type": "execute_result"
    }
   ],
   "source": [
    "N = [1, 2, 3, 4]\n",
    "N"
   ]
  },
  {
   "cell_type": "markdown",
   "metadata": {},
   "source": [
    "Por lo anterior, podríamos entender a los Naturales como los números positivos sin decimales.\n",
    "\n",
    "A los números sin decimales los llamaremos enteros, y a los positivos como mayores que 0.\n",
    "\n",
    "¿Puedes diferenciar si los siguientes números son naturales?\n",
    "\n",
    "a. 14\n",
    "\n",
    "b. -5\n",
    "\n",
    "c. 4.6\n",
    "\n",
    "\n",
    "En la siguiente función, utilizamos la función _isinstance_ para verificar si el número es un entero y luego validamos que sea mayor que 0 para determinar si los números son naturales"
   ]
  },
  {
   "cell_type": "code",
   "execution_count": 3,
   "metadata": {},
   "outputs": [
    {
     "name": "stdout",
     "output_type": "stream",
     "text": [
      "a True\n",
      "b False\n",
      "c False\n"
     ]
    }
   ],
   "source": [
    "def es_natural(num):\n",
    "    return isinstance(num, int) and num > 0\n",
    "\n",
    "numeros = {\n",
    "    'a': 14,\n",
    "    'b': -5,\n",
    "    'c': 4.6\n",
    "}\n",
    "\n",
    "for key, value in numeros.items():\n",
    "    print(key, es_natural(value))"
   ]
  },
  {
   "cell_type": "markdown",
   "metadata": {},
   "source": [
    "### Los números enteros\n",
    "\n",
    "\n",
    "\n",
    "$$ \\Z =\\{...,-2,-1,0,1,2,...\\} $$"
   ]
  },
  {
   "cell_type": "code",
   "execution_count": 4,
   "metadata": {},
   "outputs": [
    {
     "data": {
      "text/plain": [
       "[-2, -1, 0, 1, 2]"
      ]
     },
     "execution_count": 4,
     "metadata": {},
     "output_type": "execute_result"
    }
   ],
   "source": [
    "Z = [-2,-1,0,1,2]\n",
    "Z"
   ]
  },
  {
   "cell_type": "markdown",
   "metadata": {},
   "source": [
    "Por lo anterior, podríamos entender a los Enteros como los números sin decimales.\n",
    "\n",
    "A los números sin decimales los llamaremos enteros.\n",
    "\n",
    "¿Puedes diferenciar si los siguientes números son enteros?\n",
    "\n",
    "a. 14\n",
    "\n",
    "b. -5\n",
    "\n",
    "c. 4.6\n",
    "\n",
    "\n",
    "En la siguiente función, utilizamos la función _isinstance_ para verificar si el número es un entero"
   ]
  },
  {
   "cell_type": "code",
   "execution_count": 5,
   "metadata": {},
   "outputs": [
    {
     "name": "stdout",
     "output_type": "stream",
     "text": [
      "a True\n",
      "b True\n",
      "c False\n"
     ]
    }
   ],
   "source": [
    "def es_entero(num):\n",
    "    return isinstance(num, int)\n",
    "\n",
    "numeros = {\n",
    "    'a': 14,\n",
    "    'b': -5,\n",
    "    'c': 4.6\n",
    "}\n",
    "\n",
    "for key, value in numeros.items():\n",
    "    print(key, es_entero(value))"
   ]
  },
  {
   "cell_type": "markdown",
   "metadata": {},
   "source": [
    "Se puede notar que el conjunto de los números naturales está contenido dentro de los números enteros\n",
    "\n",
    "$$ \\N \\sub \\Z $$\n",
    "\n",
    "### Los números racionales\n",
    "\n",
    "Este conjunto responde a la necesidad de partir unidades (o grupos de objetos) entre diferentes personas. Estos son números que se encuentran entre 2 enteros\n",
    "\n",
    "$$ \\mathbb{Q}=\\{\\frac{m}{n}|m\\in\\Z,n\\in\\Z,n\\not =0\\} $$\n",
    "\n",
    "Los enteros y, por lo tanto, los naturales, pertenecen a los números racionales.\n",
    "\n",
    "$$ \\N \\sub \\Z \\sub \\mathbb{Q} $$\n",
    "\n",
    "### Los números irracionales\n",
    "\n",
    "Son aquellos números que no son representables en los racionales\n",
    "\n",
    "$$ \\mathbb{Q}' $$\n",
    "\n",
    "### Los números reales\n",
    "\n",
    "Es el conjunto resultante de la unión entre los racionales y los irracionales\n",
    "\n",
    "$$ \\mathbb{Q} \\cup \\mathbb{Q}'=\\R $$\n",
    "\n",
    "El conjunto de los números no comprendido entre irracionales y racionales es vacío\n",
    "\n",
    "$$ \\mathbb{Q} \\cup \\mathbb{Q}'=\\empty $$\n",
    "\n",
    "### Caracterización de los números racionales e irracionales\n",
    "\n",
    "- Los números racionales tienen una cantidad de decimales limitada o ilimitada repetida. Los llamaremos decimales finitos o infinitos periódicos\n",
    "    - 3.15151515\n",
    "    - 4\n",
    "    - 2.5\n",
    "- Los números irracionales tienen una cantidad de decimales infinita que no se repite. Lo llamamos infinitos <strong>no</strong> periódicos\n",
    "    - 3.1415926535897932384626433832795... (pi)\n",
    "\n",
    "### Axiomas de campo\n",
    "\n",
    "Para los reales $\\R$ se definen dos operaciones que son la suma dada por el operador + y la multiplicación por el operador $\\cdot$\n",
    "Siempre se cumplen las siguientes propiedades, para los ejemplos tendremos que $\\{a=1, b=-2, c=3, d=0\\}$\n",
    "\n",
    "En Python, los números racionales e irracionales pertenecen a la clase int (enteros) y float (decimales) por lo que si un número pertenece a la clase int o float, pertenece a los reales"
   ]
  },
  {
   "cell_type": "code",
   "execution_count": 6,
   "metadata": {},
   "outputs": [],
   "source": [
    "a = 1.5\n",
    "b = -2\n",
    "c = 3\n",
    "d = 0\n",
    "\n",
    "def es_real(num):\n",
    "    return isinstance(num, int) or isinstance(num, float)"
   ]
  },
  {
   "cell_type": "markdown",
   "metadata": {},
   "source": [
    "#### Uniforme\n",
    "\n",
    "Si $a\\in\\R, b\\in\\R$, entonces $a+b\\in\\R$ y $a\\cdot b\\in\\R$\n",
    "\n",
    "Leido en español, si _a_ pertenece a los reales y _b_ pertenece a los reales, entonces la suma de _a_ y _b_, y la multiplicación de _a_ y _b_ pertenecen a los reales."
   ]
  },
  {
   "cell_type": "code",
   "execution_count": 7,
   "metadata": {},
   "outputs": [
    {
     "name": "stdout",
     "output_type": "stream",
     "text": [
      "True True True True\n"
     ]
    }
   ],
   "source": [
    "print(es_real(a),\n",
    "        es_real(b),\n",
    "        es_real(a+b),\n",
    "        es_real(a*b))"
   ]
  },
  {
   "cell_type": "markdown",
   "metadata": {},
   "source": [
    "#### Conmutativa\n",
    "\n",
    "Si $a\\in\\R, b\\in\\R$, entonces $a+b=b+a$ y $a\\cdot b=b\\cdot a$\n",
    "\n",
    "Leido en español, si a pertenece _a_ los reales y _b_ pertenece a los reales, entonces la suma de _a_ y _b_ es igual a la suma de _b_ y _a_, y la multiplicación de _a_ y _b_ es igual a la multiplicación de _b_ y _a_."
   ]
  },
  {
   "cell_type": "code",
   "execution_count": 8,
   "metadata": {},
   "outputs": [
    {
     "name": "stdout",
     "output_type": "stream",
     "text": [
      "True True\n"
     ]
    }
   ],
   "source": [
    "print(a+b==b+a, a*b==b*a)"
   ]
  },
  {
   "cell_type": "markdown",
   "metadata": {},
   "source": [
    "#### Asociativa\n",
    "\n",
    "Si $a,b,c\\in\\R$, entonces $a+(b+c)=(a+b)+c$ y $a\\cdot (b\\cdot c)=(a\\cdot b)\\cdot c$\n",
    "\n",
    "Leido en español, si _a_, _b_ y _c_ pertenecen a los reales, entonces la suma de _a_ y la suma _b_ y _c_ es igual a la suma de _c_ y la suma de _a_ y _b_, y la multiplicación de _a_ por la multiplicación de _b_ y _c_ es igual a la multiplicación de _c_ por la multiplicación de _a_ y _b_."
   ]
  },
  {
   "cell_type": "code",
   "execution_count": 9,
   "metadata": {},
   "outputs": [
    {
     "name": "stdout",
     "output_type": "stream",
     "text": [
      "True True\n"
     ]
    }
   ],
   "source": [
    "print(a+(b+c)==(a+b)+c, a*(b*c)==(a*b)*c)"
   ]
  },
  {
   "cell_type": "markdown",
   "metadata": {},
   "source": [
    "#### Distributiva\n",
    "\n",
    "Si $a,b,c\\in\\R$, entonces $a\\cdot (b+c)=a\\cdot b+a\\cdot c$\n",
    "\n",
    "Leido en español, si _a_, _b_ y _c_ pertenecen a los reales, entonces la multiplicación de _a_ por la suma _b_ y _c_ es igual a la suma entre la multiplicación de _a_ y _b_ más la multiplicación de _a_ y _c_."
   ]
  },
  {
   "cell_type": "code",
   "execution_count": 10,
   "metadata": {},
   "outputs": [
    {
     "name": "stdout",
     "output_type": "stream",
     "text": [
      "True\n"
     ]
    }
   ],
   "source": [
    "print(a*(b+c)==a*b+a*c)"
   ]
  },
  {
   "cell_type": "markdown",
   "metadata": {},
   "source": [
    "#### Modulativa\n",
    "\n",
    "Para la suma, existe el cero $0\\in \\R$, tal que $a+0=0+a=a$\n",
    "\n",
    "Para la multiplicación, existe el uno $1\\in \\R$, tal que $a\\cdot 1=1\\cdot a=a$\n",
    "\n",
    "El cero es el módulo de la suma y el uno es el módulo de la multiplicación. También se les conoce como el elemento neutro y la regla se traduce que la operación de cualquier número con el elemento neutro, da como resultado el mismo elemento."
   ]
  },
  {
   "cell_type": "code",
   "execution_count": 11,
   "metadata": {},
   "outputs": [
    {
     "name": "stdout",
     "output_type": "stream",
     "text": [
      "True True\n"
     ]
    }
   ],
   "source": [
    "print(a+0==0+a and a==a+0, a*1==1*a and a==a*1)"
   ]
  },
  {
   "cell_type": "markdown",
   "metadata": {},
   "source": [
    "#### Inversos\n",
    "\n",
    "Para todo $a\\in\\R$ existe un opuesto $-a\\in\\R$ tal que $a+(-a)=(-a)+a=0$\n",
    "\n",
    "Lo anterior quiere decir que para cada número, existe otro número de signo opuesto que al sumarlos den 0, con ello se introduce la resta.\n",
    "\n",
    "Para todo $a\\in\\R,a\\not = 0$ existe un recíproco $\\frac{1}{a}\\in\\R$ tal que $a\\cdot \\frac{1}{a}=\\frac{1}{a}\\cdot a=1$\n",
    "\n",
    "Lo anterior indica que para cada número existe el recíproco con el que al multiplicar se obtiene 1, y se introduce la división."
   ]
  },
  {
   "cell_type": "code",
   "execution_count": 12,
   "metadata": {},
   "outputs": [
    {
     "name": "stdout",
     "output_type": "stream",
     "text": [
      "0.0\n",
      "1.0\n"
     ]
    }
   ],
   "source": [
    "print(a+(-a))\n",
    "print(b*(1/b))"
   ]
  },
  {
   "cell_type": "markdown",
   "metadata": {},
   "source": [
    "### Axiomas de orden\n",
    "\n",
    "Existen para saber si un conjunto es ordenado o no, y podemos afirmar que el conjunto de los números reales es un conjunto ordenado.\n",
    "\n",
    "#### Axioma 1\n",
    "\n",
    "Existe un subconjunto $\\R ^+\\sub \\R$ tal que para todo $a\\in \\R ^+,b\\in \\R ^+$ se cumple lo siguiente:\n",
    "\n",
    "1. $a+b\\in \\R ^+$\n",
    "2. $a\\cdot b\\in\\R ^+$\n",
    "\n",
    "#### Axioma 2\n",
    "\n",
    "Para todo $a\\in\\R$ se cumple una de las siguientes\n",
    "\n",
    "1. $a\\in\\R ^+$\n",
    "2. $(-a)\\in\\R ^+$\n",
    "3. $a=0$\n",
    "\n",
    "Si $a\\in\\R ^+$ a _a_ se le llama positivo\n",
    "\n",
    "Si $(-a)\\in\\R ^+$ a _a_ se le llama negativo\n",
    "\n",
    "#### Resumen de los axiomas\n",
    "\n",
    "En otras palabras, los axiomas nos dicen que si relacionamos 2 numeros positivos en una operación de suma o multiplicación entre ellos, dará como resultado otro número positivo\n",
    "\n",
    "Vamos a practicar"
   ]
  },
  {
   "cell_type": "code",
   "execution_count": 13,
   "metadata": {},
   "outputs": [
    {
     "name": "stdout",
     "output_type": "stream",
     "text": [
      "Uno o más números no pertenece al conjunto de los positivos\n",
      "La suma de 1.5 y 3 pertenece a los positivos y la multiplicación de 1.5 y 3 pertenece a los positivos\n",
      "1.5 es un número positivo\n",
      "-2 es un número negativo\n",
      "0 es cero\n"
     ]
    }
   ],
   "source": [
    "def axioma_uno(num1, num2):\n",
    "    if num1 > 0 and num2 > 0 and (num1 + num2) > 0 and (num1 * num2) > 0:\n",
    "        return f\"La suma de {num1} y {num2} pertenece a los positivos y la multiplicación de {num1} y {num2} pertenece a los positivos\"\n",
    "    return \"Uno o más números no pertenece al conjunto de los positivos\"\n",
    "\n",
    "def axioma_dos(num):\n",
    "    if num > 0:\n",
    "        return f\"{num} es un número positivo\"\n",
    "    if -num > 0:\n",
    "        return f\"{num} es un número negativo\"\n",
    "    if num == 0:\n",
    "        return f\"{num} es cero\"\n",
    "    return \"El número ingresado no pertenece a los reales\"\n",
    "\n",
    "print(axioma_uno(a,b))\n",
    "print(axioma_uno(a,c))\n",
    "print(axioma_dos(a))\n",
    "print(axioma_dos(b))\n",
    "print(axioma_dos(d))"
   ]
  },
  {
   "cell_type": "markdown",
   "metadata": {},
   "source": [
    "### Desigualdades\n",
    "\n",
    "Las desigualdades nos permiten definir la relación de orden que hay entre diferentes números. En adelante, es preciso aclarar que el dominio de este curso será el de los números reales.\n",
    "\n",
    "1. Definimos que un número _a_ es mayor que un número _b_ con el símbolo >: $a>b$\n",
    "    - Por lo tanto $a-b\\in\\R ^+$\n",
    "2. Definimos que un número _a_ es menor que un número _b_ con el símbolo <: $a<b$\n",
    "    - Por lo tanto $b-a\\in\\R ^+$\n",
    "3. Definimos que un número _a_ es mayor o igual que un número _b_ con el símbolo $\\geq$: $a\\geq b$\n",
    "    - Por lo tanto $a>b$ ó $a=b$\n",
    "4. Definimos que un número _a_ es menor o igual que un número _b_ con el símbolo $\\leq$: $a\\leq b$\n",
    "    - Por lo tanto $a<b$ ó $a=b$\n",
    "\n",
    "Haremos unas funciones que nos determinen si un número es menor, mayor, menor o igual y/o mayor o igual"
   ]
  },
  {
   "cell_type": "code",
   "execution_count": 14,
   "metadata": {},
   "outputs": [
    {
     "name": "stdout",
     "output_type": "stream",
     "text": [
      "El número 1.5 es mayor o igual que -2\n",
      "El número 1.5 es mayor que -2\n"
     ]
    }
   ],
   "source": [
    "def es_menor(num1, num2):\n",
    "    if num1 < num2:\n",
    "        return True\n",
    "    return False\n",
    "\n",
    "def es_mayor(num1, num2):\n",
    "    if num1 > num2:\n",
    "        return True\n",
    "    return False\n",
    "\n",
    "if (es_menor(a,b) or a == b):\n",
    "    print(f'El número {a} es menor o igual que {b}')\n",
    "if (es_mayor(a,b) or a == b):\n",
    "    print(f'El número {a} es mayor o igual que {b}')\n",
    "if es_menor(a,b):\n",
    "    print(f'El número {a} es menor que {b}')\n",
    "elif es_mayor(a,b):\n",
    "    print(f'El número {a} es mayor que {b}')\n",
    "else:\n",
    "    print(f'Los números son iguales')\n"
   ]
  },
  {
   "cell_type": "markdown",
   "metadata": {},
   "source": [
    "Las desigualdades nos permiten limitar el rango de números que puede adoptar una variable\n",
    "\n",
    "#### Propiedades\n",
    "\n",
    "1. <strong>Tricotomía</strong>: Para todo $x,y\\in\\R$ existe una relación de desigualdad que los defina:\n",
    "    - $x=y$\n",
    "    - $x<y$\n",
    "    - $x>y$\n",
    "\n",
    "2. <strong>Transitiva</strong>:\n",
    "    - Si $x$ es menor que $y$ y $y$ es menor que $z$ entonces implica que $x$ es menor que $z$\n",
    "        - $x<y\\land y<z\\implies x<z$\n",
    "\n",
    "    - Si $x$ es mayor que $y$ y $y$ es mayor que $z$ entonces implica que $x$ es mayor que $z$\n",
    "        - $x>y\\land y>z\\implies x>z$\n",
    "\n",
    "3. <strong>Uniforme</strong>: Para todo $x,y,z\\in\\R$\n",
    "    - $x\\leq y\\implies x+z\\leq y+z$\n",
    "    - $x\\geq y\\implies x-z\\geq y-z$\n",
    "    - $x\\leq y\\land z>0\\implies x\\cdot z\\leq y\\cdot z$\n",
    "    - $x\\leq y\\land z<0\\implies x\\cdot z\\geq y\\cdot z$\n",
    "    - $x\\leq y\\land z>0\\implies \\frac{x}{z}\\leq \\frac{y}{z}, z\\neq 0$\n",
    "    - $x\\leq y\\land z<0\\implies \\frac{x}{z}\\geq \\frac{y}{z}, z\\neq 0$"
   ]
  },
  {
   "cell_type": "code",
   "execution_count": 18,
   "metadata": {},
   "outputs": [
    {
     "name": "stdout",
     "output_type": "stream",
     "text": [
      "3 <= 5, entonces si se suma 7, 10 <= 12\n",
      "3 <= 5, entonces si se multiplica por 7, 21 <= 35\n",
      "3 <= 5, entonces si se divide entre 7, 0.42857142857142855 <= 0.7142857142857143\n",
      "------------------------------------------------\n",
      "4 <= 5, entonces si se suma -1, 3 <= 4\n",
      "4 <= 5, entonces si se multiplica por -1, -4 >= -5\n",
      "4 <= 5, entonces si se divide entre -1, -4.0 >= -5.0\n"
     ]
    }
   ],
   "source": [
    "def uniformidades(x, y, z=1):\n",
    "    if x >= y:\n",
    "        print(f'{y} <= {x}, entonces si se suma {z}, {y+z} <= {x+z}')\n",
    "    else:\n",
    "        \n",
    "        print(f'{x} <= {y}, entonces si se suma {z}, {x+z} <= {y+z}')\n",
    "\n",
    "    if x >= y and z >= 0:\n",
    "        print(f'{y} <= {x}, entonces si se multiplica por {z}, {y*z} <= {x*z}')\n",
    "    elif x <= y and z >= 0:\n",
    "        print(f'{x} <= {y}, entonces si se multiplica por {z}, {x*z} <= {y*z}')\n",
    "    elif x >= y and z < 0:\n",
    "        print(f'{y} <= {x}, entonces si se multiplica por {z}, {y*z} >= {x*z}')\n",
    "    else:\n",
    "        print(f'{x} <= {y}, entonces si se multiplica por {z}, {x*z} >= {y*z}')\n",
    "\n",
    "    if x >= y and z > 0:\n",
    "        print(f'{y} <= {x}, entonces si se divide entre {z}, {y/z} <= {x/z}')\n",
    "    elif x <= y and z > 0:\n",
    "        print(f'{x} <= {y}, entonces si se divide entre {z}, {x/z} <= {y/z}')\n",
    "    elif x >= y and z < 0:\n",
    "        print(f'{y} <= {x}, entonces si se divide entre {z}, {y/z} >= {x/z}')\n",
    "    else:\n",
    "        print(f'{x} <= {y}, entonces si se divide entre {z}, {x/z} >= {y/z}')\n",
    "\n",
    "\n",
    "uniformidades(3,5,7)\n",
    "print('------------------------------------------------')\n",
    "uniformidades(4,5,-1)"
   ]
  },
  {
   "cell_type": "markdown",
   "metadata": {},
   "source": [
    "#### Intérvalos\n",
    "\n",
    "Los intérvalos representan los infinitos subconjuntos numéricos que pueden existir"
   ]
  }
 ],
 "metadata": {
  "kernelspec": {
   "display_name": "Python 3",
   "language": "python",
   "name": "python3"
  },
  "language_info": {
   "codemirror_mode": {
    "name": "ipython",
    "version": 3
   },
   "file_extension": ".py",
   "mimetype": "text/x-python",
   "name": "python",
   "nbconvert_exporter": "python",
   "pygments_lexer": "ipython3",
   "version": "3.12.2"
  }
 },
 "nbformat": 4,
 "nbformat_minor": 2
}
