{
 "cells": [
  {
   "cell_type": "markdown",
   "metadata": {},
   "source": [
    "# Cálculo diferencial\n",
    "\n",
    "Acá, de la forma más descriptiba posible y con ayuda de la programación, veremos los temas del microcurrículo de Cálculo integral \n",
    "\n",
    "## Temario\n",
    "\n",
    "Esto es aburrido, te lo puedes saltar, pero si te interesa saber qué aprenderás con este Notebook deberías leerlo\n",
    "### Unidad 1 - Precálculo\n",
    "- Los números reales. \n",
    "    - Propiedades de campo. \n",
    "    - Propiedades de orden.\n",
    "- Desigualdades. \n",
    "        - Intervalos. \n",
    "        - Inecuaciones.\n",
    "- Valor absoluto. \n",
    "    - Desigualdades con valor absoluto.\n",
    "- El sistema de coordenadas cartesianas. \n",
    "    - Pares ordenados. \n",
    "    - Distancia entre dos puntos del plano. \n",
    "    - Coordenadas del punto medio.\n",
    "- La línea recta. \n",
    "    - Las diferentes formas de la ecuación de una recta. \n",
    "    - Rectas paralelas y perpendiculares.\n",
    "- Funciones y sus gráfcas. \n",
    "    -Diferentes tipos de funciones. \n",
    "    - Dominio y rango.\n",
    "- Operaciones con funciones. \n",
    "    - Desplazamientos y cambios de escala.\n",
    "- Desplazamientos, alargamientos y compresiones.\n",
    "\n",
    "### Unidad 2 - Límites y continuidad\n",
    "- Noción intuitiva del límite. \n",
    "    - Defnición formal de límite.\n",
    "- Teoremas sobre límites. \n",
    "    - Teorema del sándwich. \n",
    "    - Limites laterales.\n",
    "- Limites que incluyen funciones trigonométricas.\n",
    "- Continuidad de funciones. \n",
    "    - Continuidad en un punto. \n",
    "    - Clasifcación de las discontinuidades.\n",
    "- Teoremas sobre funciones continuas. \n",
    "    -Continuidad en un intervalo.\n",
    "- Límites al infnito y límites infnitos.\n",
    "\n",
    "### Unidad 3 - La derivada\n",
    "- Defnición e Interpretación física y geométrica de la derivada.\n",
    "- Derivada. \n",
    "    - Notación. \n",
    "    - Relación derivadacontinuidad y derivada laterales.\n",
    "- Reglas de derivación. \n",
    "    - Regla de la cadena.\n",
    "- Derivadas de orden superior. \n",
    "    - Derivación implícita.\n",
    "- Derivada de las funciones trigonométricas. \n",
    "    - Derivada de funciones exponenciales y logarítmicas.\n",
    "- Derivada de funciones trigonométricas inversas. \n",
    "    - Funciones hiperbólicas e hiperbólicas inversas y sus derivadas.\n",
    "\n",
    "### Unidad 4 - Aplicaciones de la derivada\n",
    "- Variables relacionadas. \n",
    "    - La derivada como razón de cambio.\n",
    "- Formas indeterminadas y la regla de L'Hôpital.\n",
    "- Asíntotas de una curva. \n",
    "    - Clasifcación. \n",
    "    - Asíntotas horizontales, verticales y oblicuas.\n",
    "- Valores extremos de una función de variable real. \n",
    "    - Números críticos. \n",
    "    - Valores extremos relativos y absolutos.\n",
    "- Criterios de la primera derivada. \n",
    "    -Puntos críticos. \n",
    "    - Criterio de la primera derivada para crecimiento y decrecimiento de una función. \n",
    "    - Criterio de la primera derivada para extremos relativos.\n",
    "- Criterio de la segunda derivada. \n",
    "    - Puntos de infexión. \n",
    "    - Criterio de la segunda derivada para concavidad. \n",
    "    - Criterio de la segunda derivada para extremos relativos.\n",
    "- Trazado de curvas con todos sus elementos.\n",
    "- Problemas de optimización.\n",
    "- Diferenciales y aproximaciones lineales.\n",
    "\n",
    "## Bibliografía:\n",
    "- Texto guía: Jesús Del Valle Sierra. Elementos Básicos de Cálculo Diferencial Tercera edición\n",
    "- PÉREZ José Luis, MERCADO Norman. Notas para un curso de Cálculo Diferencial.\n",
    "- STWART, James. Calculo, Trascendentes Tempranas. Cuarta Edición. Editorial Thomson.\n",
    "- LARSON, Roland E. y HOSTETLER, Robert P. Cálculo y Geometría Analítica. Sexta edición. Madrid: Editorial McGraw-Hill.\n",
    "- LEITHOLD, Louis. El Cálculo con Geometría Analítica. Sexta edición. México: Editorial Harla, 1992.\n"
   ]
  },
  {
   "cell_type": "markdown",
   "metadata": {},
   "source": [
    "## Unidad 1\n",
    "\n",
    "### Los números naturales\n",
    "\n",
    "Los numeros naturales resultaron por la necesidad de contar cosas\n",
    "\n"
   ]
  },
  {
   "cell_type": "code",
   "execution_count": 1,
   "metadata": {},
   "outputs": [
    {
     "data": {
      "text/plain": [
       "[1, 2, 3, 4]"
      ]
     },
     "execution_count": 1,
     "metadata": {},
     "output_type": "execute_result"
    }
   ],
   "source": [
    "N = [1, 2, 3, 4]\n",
    "N"
   ]
  }
 ],
 "metadata": {
  "kernelspec": {
   "display_name": "Python 3",
   "language": "python",
   "name": "python3"
  },
  "language_info": {
   "codemirror_mode": {
    "name": "ipython",
    "version": 3
   },
   "file_extension": ".py",
   "mimetype": "text/x-python",
   "name": "python",
   "nbconvert_exporter": "python",
   "pygments_lexer": "ipython3",
   "version": "3.12.2"
  }
 },
 "nbformat": 4,
 "nbformat_minor": 2
}
